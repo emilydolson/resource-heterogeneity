{
 "metadata": {
  "name": "",
  "signature": "sha256:25b7bd92a429362319f48f34c3131b719170675df30616c9db3c38e94c19ee8d"
 },
 "nbformat": 3,
 "nbformat_minor": 0,
 "worksheets": [
  {
   "cells": [
    {
     "cell_type": "code",
     "collapsed": false,
     "input": [
      "import os\n",
      "import numpy, scipy, matplotlib\n",
      "import matplotlib.pyplot as plt\n",
      "import csv\n",
      "import sys"
     ],
     "language": "python",
     "metadata": {},
     "outputs": [],
     "prompt_number": 3
    },
    {
     "cell_type": "code",
     "collapsed": false,
     "input": [
      "path = \"\"\n",
      "os.chdir(path)\n",
      "conditions = [\"rad8_dist0_in100\", \"rad8_dist2_in100\", \"rad8_dist3_in100\", \"distance5_radius8\", \"distance6_radius8\", \"distance8_radius8\", \"radius8_distance10\", \"radius8_distance12\", \"radius8_distance14\"]\n",
      "\n",
      "\n",
      "def getData(condition):\n",
      "    diversities = []\n",
      "    equs = []\n",
      "    try:\n",
      "        dirs = os.listdir(condition)\n",
      "    except:\n",
      "        return [], []\n",
      "    for d in dirs:\n",
      "        diversityfile = open(condition + \"/\" + d +\"/phenotype_count.dat\")\n",
      "        diversities.append(float(diversityfile.readlines()[-1].split()[2]))\n",
      "        diversityfile.close()\n",
      "        taskfile = open(condition + \"/\" + d + \"/tasks.dat\")\n",
      "        equs.append(int(taskfile.readlines()[-1].split()[9]))\n",
      "        taskfile.close()\n",
      "   \n",
      "    print equs\n",
      "    #csv_out3 = open('depletable_inflow100_equs.csv', 'a')\n",
      "    #mywriter3 = csv.writer(csv_out3)\n",
      "    \n",
      "    #for j in range(len(equs2)):\n",
      "     #   mywriter3.writerow([condition,equs2[j]])\n",
      "    #csv_out3.close()\n",
      "    \n",
      "    #print diversities\n",
      "    #csv_out4 = open('depletable_inflow100_divs.csv', 'a')\n",
      "    #mywriter4 = csv.writer(csv_out4)\n",
      "    \n",
      "    #for j in range(len(diversities2)):\n",
      "     #   mywriter4.writerow([condition,diversities2[j]])\n",
      "    #csv_out4.close()\n",
      "    \n",
      "    \n",
      "    return diversities, equs\n",
      "\n",
      "\n",
      "def doStats(conditions):\n",
      "    divs = []\n",
      "    equs = []\n",
      "    for c in conditions:\n",
      "        d, e = getData(c)\n",
      "        if d == []:\n",
      "            continue\n",
      "        divs.append(d)\n",
      "        e = [int(i>0) for i in e]\n",
      "        equs.append(e)\n",
      "    \n",
      "    plt.figure(1)\n",
      "    plt.xlabel(\"Treatment(radius)\")\n",
      "    plt.ylabel(\"Phenotypic Shannon entropy of viable organisms\")\n",
      "    plt.title(\"Diversity Distributions over Entropy Treatments\")\n",
      "    plt.boxplot(divs, notch=True)\n",
      "    equHeights = [sum(i) for i in equs]\n",
      "    plt.xticks([1, 2, 3, 4, 5, 6, 7, 8, 9], [\"0\", \"2\", \"3\", \"5\", \"6\",\"8\",\"10\", \"12\", \"14\"], rotation='horizontal')\n",
      "    \n",
      "    \n",
      "    plt.figure(2)\n",
      "    plt.title(\"Evolution of EQU over Entropy Treatments\")\n",
      "    plt.xlabel(\"Treatment (radius)\")\n",
      "    plt.ylabel(\"# of populations that evolved EQU by 100,000 updates\")\n",
      "    plt.bar(range(len(equHeights)), equHeights)\n",
      "    plt.xticks([0.4, 1.4, 2.4, 3.4, 4.4, 5.4, 6.4, 7.4, 8.4, 9.4], [\"6\",\"8\",\"10\",\"15\", \"20\",\"24\", \"30\", \"36\", \"48\", \"59\"], rotation='horizontal')\n",
      "   \n",
      "    \n",
      "doStats(conditions)\n",
      "getData(conditions)\n"
     ],
     "language": "python",
     "metadata": {},
     "outputs": [
      {
       "output_type": "stream",
       "stream": "stdout",
       "text": [
        "[0, 3045, 3014, 0, 0, 0, 3002, 3028, 0, 2981, 2859, 2888, 2965, 0, 413, 2909, 2942, 3042, 2973, 0, 2962, 0, 2892, 3300, 0, 0, 0, 0, 2950, 2926, 0]\n",
        "[2943, 0, 2860, 3061, 3161, 3182, 0, 2226, 0, 3094, 0, 3082, 3062, 3109, 0, 2973, 2273, 3217, 3149, 3183, 0, 3191, 0, 2922, 0, 2962, 0, 3135, 3204, 0]"
       ]
      },
      {
       "output_type": "stream",
       "stream": "stdout",
       "text": [
        "\n",
        "[3155, 0, 3088, 0, 3092, 0, 3085, 0, 3051, 2861, 3132, 3164, 2935, 2951, 2676, 3006, 0, 3040, 3222, 2959, 3078, 2170, 0, 0, 3144, 2938, 3206, 1304, 3122, 0]"
       ]
      },
      {
       "output_type": "stream",
       "stream": "stdout",
       "text": [
        "\n",
        "[0, 2840, 3099, 2984, 0, 2666, 0, 2688, 0, 0, 2734, 0, 2828, 3086, 0, 0, 0, 0, 0, 2659, 0, 2652, 0, 0, 0, 2996, 0, 0, 2912, 0]"
       ]
      },
      {
       "output_type": "stream",
       "stream": "stdout",
       "text": [
        "\n",
        "[0, 0, 0, 2865, 0, 0, 0, 2906, 0, 0, 2619, 0, 0, 0, 0, 0, 2822, 2914, 0, 0, 0, 0, 0, 2770, 3089, 0, 0, 2603, 2977, 0]"
       ]
      },
      {
       "output_type": "stream",
       "stream": "stdout",
       "text": [
        "\n",
        "[2810, 2544, 0, 2848, 0, 0, 2673, 0, 2841, 0, 0, 2539, 2729, 0, 3101, 0, 0, 0, 2897, 0, 0, 0, 0, 2989, 0, 0, 2728, 0, 0, 0]"
       ]
      },
      {
       "output_type": "stream",
       "stream": "stdout",
       "text": [
        "\n",
        "[0, 2769, 0, 0, 0, 2870, 2907, 0, 0, 2773, 0, 0, 2723, 0, 0, 0, 2740, 0, 0, 0, 0, 0, 0, 0, 0, 0, 0, 0, 0, 0]"
       ]
      },
      {
       "output_type": "stream",
       "stream": "stdout",
       "text": [
        "\n",
        "[2552, 0, 0, 0, 0, 0, 0, 0, 2877, 0, 0, 0, 0, 0, 0, 0, 0, 3100, 0, 0, 0, 0, 0, 0, 0, 0, 0, 0, 0, 0]"
       ]
      },
      {
       "output_type": "stream",
       "stream": "stdout",
       "text": [
        "\n",
        "[0, 0, 0, 0, 0, 0, 0, 0, 0, 0, 0, 0, 0, 0, 0, 0, 0, 0, 0, 0, 0, 0, 0, 0, 0, 0, 0, 0, 0, 0]"
       ]
      },
      {
       "output_type": "stream",
       "stream": "stdout",
       "text": [
        "\n"
       ]
      },
      {
       "metadata": {},
       "output_type": "pyout",
       "prompt_number": 4,
       "text": [
        "([], [])"
       ]
      },
      {
       "metadata": {},
       "output_type": "display_data",
       "png": "[encoded data removed]",
       "text": [
        "<matplotlib.figure.Figure at 0x2cdf050>"
       ]
      },
      {
       "metadata": {},
       "output_type": "display_data",
       "png": "[encoded data removed]",
       "text": [
        "<matplotlib.figure.Figure at 0x30396d0>"
       ]
      }
     ],
     "prompt_number": 4
    },
    {
     "cell_type": "code",
     "collapsed": false,
     "input": [],
     "language": "python",
     "metadata": {},
     "outputs": []
    }
   ],
   "metadata": {}
  }
 ]
}