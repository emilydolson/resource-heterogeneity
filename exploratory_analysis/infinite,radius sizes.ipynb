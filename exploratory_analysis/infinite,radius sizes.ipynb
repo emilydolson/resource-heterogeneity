{
 "metadata": {
  "name": "",
  "signature": "sha256:edcfa6b134e648aa676255758e5e89d1812dc2e51c1144eaaab7955383df9db0"
 },
 "nbformat": 3,
 "nbformat_minor": 0,
 "worksheets": [
  {
   "cells": [
    {
     "cell_type": "code",
     "collapsed": false,
     "input": [
      "import os\n",
      "import numpy, scipy, matplotlib\n",
      "import matplotlib.pyplot as plt\n",
      "import csv\n",
      "import sys"
     ],
     "language": "python",
     "metadata": {},
     "outputs": [],
     "prompt_number": 3
    },
    {
     "cell_type": "code",
     "collapsed": false,
     "input": [
      "path = \"/user_home/w_BEACONGroupE/resource-heterogeneity/experiment/\"\n",
      "os.chdir(path)\n",
      "conditions = [\"max_background_limEqu\", \"rad8\", \"rad10\", \"rad15_limEQU\", \"radius20_limEqu\", \"rad24\", \"radius30\", \"radius36\", \"radius48\", \"radius59\"]\n",
      "\n",
      "def getData2(condition):\n",
      "    diversities2 = []\n",
      "    equs2 = []\n",
      "    try:\n",
      "        dirs = os.listdir(condition)\n",
      "    except:\n",
      "        return [], []\n",
      "    for d in dirs:\n",
      "        diversityfile = open(condition + \"/\" + d +\"/phenotype_count.dat\")\n",
      "        diversities2.append(float(diversityfile.readlines()[-1].split()[2]))\n",
      "        diversityfile.close()\n",
      "        taskfile = open(condition + \"/\" + d + \"/tasks.dat\")\n",
      "        equs2.append(int(taskfile.readlines()[-1].split()[9]))\n",
      "        taskfile.close()\n",
      "   \n",
      "    print equs2\n",
      "    csv_out3 = open('redone_infinite_equs.csv', 'a')\n",
      "    mywriter3 = csv.writer(csv_out3)\n",
      "    \n",
      "    for j in range(len(equs2)):\n",
      "        mywriter3.writerow([condition,equs2[j]])\n",
      "    csv_out3.close()\n",
      "    \n",
      "    #print diversities\n",
      "    csv_out4 = open('redone_infinite_divs.csv', 'a')\n",
      "    mywriter4 = csv.writer(csv_out4)\n",
      "    \n",
      "    for j in range(len(diversities2)):\n",
      "        mywriter4.writerow([condition,diversities2[j]])\n",
      "    csv_out4.close()\n",
      "    \n",
      "    \n",
      "    return diversities2, equs2\n",
      "\n",
      "\n",
      "def doStats2(conditions):\n",
      "    divs = []\n",
      "    equs = []\n",
      "    for c in conditions:\n",
      "        d, e = getData2(c)\n",
      "        if d == []:\n",
      "            continue\n",
      "        divs.append(d)\n",
      "        e = [int(i>0) for i in e]\n",
      "        equs.append(e)\n",
      "    \n",
      "    plt.figure(1)\n",
      "    plt.xlabel(\"Treatment(radius)\")\n",
      "    plt.ylabel(\"Phenotypic Shannon entropy of viable organisms\")\n",
      "    plt.title(\"Diversity Distributions over Entropy Treatments\")\n",
      "    plt.boxplot(divs, notch=True)\n",
      "    equHeights = [sum(i) for i in equs]\n",
      "    plt.xticks([1, 2, 3, 4, 5, 6, 7, 8,9, 10], [\"6\",\"8\",\"10\",\"15\", \"20\", \"24\", \"30\", \"36\", \"48\", \"59\"], rotation='horizontal')\n",
      "    \n",
      "    \n",
      "    plt.figure(2)\n",
      "    plt.title(\"Evolution of EQU over Entropy Treatments\")\n",
      "    plt.xlabel(\"Treatment (radius)\")\n",
      "    plt.ylabel(\"# of populations that evolved EQU by 100,000 updates\")\n",
      "    plt.bar(range(len(equHeights)), equHeights)\n",
      "    plt.xticks([0.4, 1.4, 2.4, 3.4, 4.4, 5.4, 6.4, 7.4, 8.4, 9.4, 10.4], [\"6\",\"8\",\"10\",\"15\", \"20\",\"24\", \"30\", \"36\", \"48\", \"59\"], rotation='horizontal')\n",
      "   \n",
      "    \n",
      "doStats2(conditions)\n",
      "getData2(conditions)\n"
     ],
     "language": "python",
     "metadata": {},
     "outputs": [
      {
       "output_type": "stream",
       "stream": "stdout",
       "text": [
        "[0, 0, 0, 0, 0, 0, 0, 0, 0, 0, 0, 0, 0, 0, 0, 0, 0, 0, 0, 0, 0, 0, 0, 0, 0, 0, 0, 0, 0, 0, 0]\n",
        "[0, 0, 0, 2712, 0, 0, 0, 0, 0, 0, 0, 0, 0, 0, 0, 0, 0, 0, 0, 0, 0, 0, 0, 0, 0, 0, 0, 0, 0, 0]"
       ]
      },
      {
       "output_type": "stream",
       "stream": "stdout",
       "text": [
        "\n",
        "[2602, 0, 0, 0, 2410, 0, 0, 2921, 2226, 0, 0, 0, 0, 0, 2579, 0, 0, 0, 0, 0, 0, 0, 0, 2993, 2811, 0, 0, 2318, 2327, 0]"
       ]
      },
      {
       "output_type": "stream",
       "stream": "stdout",
       "text": [
        "\n",
        "[2344, 0, 0, 0, 1860, 0, 2679, 2930, 1655, 0, 2107, 3116, 0, 2121, 2797, 2777, 1975, 2720, 0, 2387, 0, 2469, 2425, 3104, 3064, 2550, 0, 0, 0]"
       ]
      },
      {
       "output_type": "stream",
       "stream": "stdout",
       "text": [
        "\n",
        "[2744, 2246, 2420, 2045, 2562, 2293, 0, 0, 0, 0, 0, 3140, 0, 0, 2772, 2179, 1908, 2445, 0, 2203, 1694, 1884, 3055, 2096, 0, 2835, 1877, 2042, 3217, 0, 2937]"
       ]
      },
      {
       "output_type": "stream",
       "stream": "stdout",
       "text": [
        "\n",
        "[2218, 1502, 1442, 1912, 0, 2217, 2629, 2048, 2943, 3238, 2264, 1866, 0, 0, 1832, 0, 3056, 2128, 2671, 2382, 0, 1732, 0, 3094, 1879, 0, 1778, 1820, 1966, 2823]"
       ]
      },
      {
       "output_type": "stream",
       "stream": "stdout",
       "text": [
        "\n",
        "[1563, 1719, 2629, 2211, 1966, 0, 3227, 1498, 0, 1870, 2662, 3235, 0, 1782, 1853, 1799, 2050, 1147, 0, 0, 1954, 1727, 0, 2021, 1970, 2046, 0, 2632, 0, 0]"
       ]
      },
      {
       "output_type": "stream",
       "stream": "stdout",
       "text": [
        "\n",
        "[3067, 2223, 0, 2931, 0, 1659, 0, 3121, 1392, 3177, 0, 0, 1212, 0, 0, 3102, 3239, 0, 3252, 1719, 0, 1499, 0, 0, 3045, 1514, 0, 0, 3220, 3118]"
       ]
      },
      {
       "output_type": "stream",
       "stream": "stdout",
       "text": [
        "\n",
        "[3201, 0, 763, 3189, 0, 921, 2959, 3130, 0, 0, 0, 0, 0, 0, 3203, 529, 0, 0, 607, 0, 0, 2923, 1050, 2970, 568, 1283, 0, 1350, 0, 714]"
       ]
      },
      {
       "output_type": "stream",
       "stream": "stdout",
       "text": [
        "\n",
        "[0, 0, 0, 0, 0, 0, 0, 1045, 0, 3236, 0, 0, 2128, 0, 642, 0, 3239, 0, 967, 3265, 3066, 1873, 0, 0, 0, 403, 0, 0, 0, 3102]"
       ]
      },
      {
       "output_type": "stream",
       "stream": "stdout",
       "text": [
        "\n"
       ]
      },
      {
       "metadata": {},
       "output_type": "pyout",
       "prompt_number": 4,
       "text": [
        "([], [])"
       ]
      },
      {
       "metadata": {},
       "output_type": "display_data",
       "png": "[encoded data removed]",
       "text": [
        "<matplotlib.figure.Figure at 0x206e290>"
       ]
      },
      {
       "metadata": {},
       "output_type": "display_data",
       "png": "[encoded data removed]",
       "text": [
        "<matplotlib.figure.Figure at 0x255ca50>"
       ]
      }
     ],
     "prompt_number": 4
    },
    {
     "cell_type": "code",
     "collapsed": false,
     "input": [],
     "language": "python",
     "metadata": {},
     "outputs": []
    }
   ],
   "metadata": {}
  }
 ]
}