{
 "metadata": {
  "name": "",
  "signature": "sha256:4fb0dffcc1f5dd16975023cc19e526b234620f2f997192753d83da6dce24208e"
 },
 "nbformat": 3,
 "nbformat_minor": 0,
 "worksheets": [
  {
   "cells": [
    {
     "cell_type": "code",
     "collapsed": false,
     "input": [
      "import os\n",
      "import numpy, scipy, matplotlib\n",
      "import matplotlib.pyplot as plt\n",
      "import csv\n",
      "import sys"
     ],
     "language": "python",
     "metadata": {},
     "outputs": [],
     "prompt_number": 23
    },
    {
     "cell_type": "code",
     "collapsed": false,
     "input": [
      "path = \"/user_home/w_BEACONGroupE/resource-heterogeneity/experiment/\"\n",
      "os.chdir(path)\n",
      "conditions = [ \"world80_rad10_dist12_in100\"]\n",
      "\n",
      "\n",
      "def getData2(condition):\n",
      "    diversities2 = []\n",
      "    equs2 = []\n",
      "    try:\n",
      "        print condition\n",
      "        dirs = os.listdir(condition)\n",
      "    except:\n",
      "        return [], []\n",
      "    dirs.sort()\n",
      "    for d in dirs:\n",
      "        print d\n",
      "        diversityfile = open(condition + \"/\" + d +\"/phenotype_count.dat\")\n",
      "        diversities2.append(float(diversityfile.readlines()[-1].split()[2]))\n",
      "        diversityfile.close()\n",
      "        taskfile = open(condition + \"/\" + d + \"/tasks.dat\")\n",
      "        equs2.append(int(taskfile.readlines()[-1].split()[9]))\n",
      "        taskfile.close()\n",
      "   \n",
      "    #print equs2\n",
      "    #csv_out3 = open('depletable_inflow100_equs.csv', 'a')\n",
      "    #mywriter3 = csv.writer(csv_out3)\n",
      "    \n",
      "    #for j in range(len(equs2)):\n",
      "     #   mywriter3.writerow([condition,equs2[j]])\n",
      "    #csv_out3.close()\n",
      "    \n",
      "    #print diversities\n",
      "    #csv_out4 = open('depletable_inflow100_divs.csv', 'a')\n",
      "    #mywriter4 = csv.writer(csv_out4)\n",
      "    \n",
      "    #for j in range(len(diversities2)):\n",
      "     #   mywriter4.writerow([condition,diversities2[j]])\n",
      "    #csv_out4.close()\n",
      "    \n",
      "    \n",
      "    return diversities2, equs2\n",
      "\n",
      "\n",
      "def doStats2(conditions):\n",
      "    divs = []\n",
      "    equs = []\n",
      "    for c in conditions:\n",
      "        d, e = getData2(c)\n",
      "        if d == []:\n",
      "            continue\n",
      "        divs.append(d)\n",
      "        e = [int(i>0) for i in e]\n",
      "        equs.append(e)\n",
      "    \n",
      "    plt.figure(1)\n",
      "    plt.xlabel(\"World size)\")\n",
      "    plt.ylabel(\"Phenotypic Shannon entropy of viable organisms\")\n",
      "    plt.title(\"Diversity Distributions vs World size (no pop cap r10 d12 in100)\")\n",
      "    plt.boxplot(divs, notch=True)\n",
      "    equHeights = [sum(i) for i in equs]\n",
      "    plt.xticks([1, 2, 3], [\"80\",\"100\", \"200\"], rotation='horizontal')\n",
      "    \n",
      "    \n",
      "    plt.figure(2)\n",
      "    plt.title(\"Evolution of EQU vs World size (no pop cap r10 d12 in100)\")\n",
      "    plt.xlabel(\"World Size\")\n",
      "    plt.ylabel(\"# of populations that evolved EQU by 100,000 updates\")\n",
      "    plt.bar(range(len(equHeights)), equHeights)\n",
      "    plt.xticks([1, 2, 3], [\"80\",\"100\", \"200\"], rotation='horizontal')\n",
      "\n",
      "    \n",
      "getData2(conditions)\n",
      "doStats2(conditions)\n",
      "\n"
     ],
     "language": "python",
     "metadata": {},
     "outputs": [
      {
       "output_type": "stream",
       "stream": "stdout",
       "text": [
        "['world80_rad10_dist12_in100']\n",
        "world80_rad10_dist12_in100\n",
        "heterogeneity_replication_2431\n",
        "heterogeneity_replication_2432\n",
        "heterogeneity_replication_2433\n",
        "heterogeneity_replication_2434\n",
        "heterogeneity_replication_2435\n",
        "heterogeneity_replication_2436\n",
        "heterogeneity_replication_2437\n",
        "heterogeneity_replication_2438"
       ]
      },
      {
       "output_type": "stream",
       "stream": "stdout",
       "text": [
        "\n",
        "heterogeneity_replication_2439\n",
        "heterogeneity_replication_2440\n",
        "heterogeneity_replication_2441\n",
        "heterogeneity_replication_2442\n",
        "heterogeneity_replication_2443\n",
        "heterogeneity_replication_2444\n",
        "heterogeneity_replication_2445\n",
        "heterogeneity_replication_2446"
       ]
      },
      {
       "output_type": "stream",
       "stream": "stdout",
       "text": [
        "\n",
        "heterogeneity_replication_2447\n",
        "heterogeneity_replication_2448\n",
        "heterogeneity_replication_2449\n",
        "heterogeneity_replication_2450\n",
        "heterogeneity_replication_2451\n",
        "heterogeneity_replication_2452\n",
        "heterogeneity_replication_2453\n",
        "heterogeneity_replication_2454"
       ]
      },
      {
       "output_type": "stream",
       "stream": "stdout",
       "text": [
        "\n",
        "heterogeneity_replication_2455\n"
       ]
      },
      {
       "ename": "IndexError",
       "evalue": "list index out of range",
       "output_type": "pyerr",
       "traceback": [
        "\u001b[1;31m---------------------------------------------------------------------------\u001b[0m\n\u001b[1;31mIndexError\u001b[0m                                Traceback (most recent call last)",
        "\u001b[1;32m<ipython-input-24-0b14c03c3b7a>\u001b[0m in \u001b[0;36m<module>\u001b[1;34m()\u001b[0m\n\u001b[0;32m     71\u001b[0m \u001b[1;33m\u001b[0m\u001b[0m\n\u001b[0;32m     72\u001b[0m \u001b[0mgetData2\u001b[0m\u001b[1;33m(\u001b[0m\u001b[0mconditions\u001b[0m\u001b[1;33m)\u001b[0m\u001b[1;33m\u001b[0m\u001b[0m\n\u001b[1;32m---> 73\u001b[1;33m \u001b[0mdoStats2\u001b[0m\u001b[1;33m(\u001b[0m\u001b[0mconditions\u001b[0m\u001b[1;33m)\u001b[0m\u001b[1;33m\u001b[0m\u001b[0m\n\u001b[0m\u001b[0;32m     74\u001b[0m \u001b[1;33m\u001b[0m\u001b[0m\n",
        "\u001b[1;32m<ipython-input-24-0b14c03c3b7a>\u001b[0m in \u001b[0;36mdoStats2\u001b[1;34m(conditions)\u001b[0m\n\u001b[0;32m     46\u001b[0m     \u001b[0mequs\u001b[0m \u001b[1;33m=\u001b[0m \u001b[1;33m[\u001b[0m\u001b[1;33m]\u001b[0m\u001b[1;33m\u001b[0m\u001b[0m\n\u001b[0;32m     47\u001b[0m     \u001b[1;32mfor\u001b[0m \u001b[0mc\u001b[0m \u001b[1;32min\u001b[0m \u001b[0mconditions\u001b[0m\u001b[1;33m:\u001b[0m\u001b[1;33m\u001b[0m\u001b[0m\n\u001b[1;32m---> 48\u001b[1;33m         \u001b[0md\u001b[0m\u001b[1;33m,\u001b[0m \u001b[0me\u001b[0m \u001b[1;33m=\u001b[0m \u001b[0mgetData2\u001b[0m\u001b[1;33m(\u001b[0m\u001b[0mc\u001b[0m\u001b[1;33m)\u001b[0m\u001b[1;33m\u001b[0m\u001b[0m\n\u001b[0m\u001b[0;32m     49\u001b[0m         \u001b[1;32mif\u001b[0m \u001b[0md\u001b[0m \u001b[1;33m==\u001b[0m \u001b[1;33m[\u001b[0m\u001b[1;33m]\u001b[0m\u001b[1;33m:\u001b[0m\u001b[1;33m\u001b[0m\u001b[0m\n\u001b[0;32m     50\u001b[0m             \u001b[1;32mcontinue\u001b[0m\u001b[1;33m\u001b[0m\u001b[0m\n",
        "\u001b[1;32m<ipython-input-24-0b14c03c3b7a>\u001b[0m in \u001b[0;36mgetData2\u001b[1;34m(condition)\u001b[0m\n\u001b[0;32m     16\u001b[0m         \u001b[1;32mprint\u001b[0m \u001b[0md\u001b[0m\u001b[1;33m\u001b[0m\u001b[0m\n\u001b[0;32m     17\u001b[0m         \u001b[0mdiversityfile\u001b[0m \u001b[1;33m=\u001b[0m \u001b[0mopen\u001b[0m\u001b[1;33m(\u001b[0m\u001b[0mcondition\u001b[0m \u001b[1;33m+\u001b[0m \u001b[1;34m\"/\"\u001b[0m \u001b[1;33m+\u001b[0m \u001b[0md\u001b[0m \u001b[1;33m+\u001b[0m\u001b[1;34m\"/phenotype_count.dat\"\u001b[0m\u001b[1;33m)\u001b[0m\u001b[1;33m\u001b[0m\u001b[0m\n\u001b[1;32m---> 18\u001b[1;33m         \u001b[0mdiversities2\u001b[0m\u001b[1;33m.\u001b[0m\u001b[0mappend\u001b[0m\u001b[1;33m(\u001b[0m\u001b[0mfloat\u001b[0m\u001b[1;33m(\u001b[0m\u001b[0mdiversityfile\u001b[0m\u001b[1;33m.\u001b[0m\u001b[0mreadlines\u001b[0m\u001b[1;33m(\u001b[0m\u001b[1;33m)\u001b[0m\u001b[1;33m[\u001b[0m\u001b[1;33m-\u001b[0m\u001b[1;36m1\u001b[0m\u001b[1;33m]\u001b[0m\u001b[1;33m.\u001b[0m\u001b[0msplit\u001b[0m\u001b[1;33m(\u001b[0m\u001b[1;33m)\u001b[0m\u001b[1;33m[\u001b[0m\u001b[1;36m2\u001b[0m\u001b[1;33m]\u001b[0m\u001b[1;33m)\u001b[0m\u001b[1;33m)\u001b[0m\u001b[1;33m\u001b[0m\u001b[0m\n\u001b[0m\u001b[0;32m     19\u001b[0m         \u001b[0mdiversityfile\u001b[0m\u001b[1;33m.\u001b[0m\u001b[0mclose\u001b[0m\u001b[1;33m(\u001b[0m\u001b[1;33m)\u001b[0m\u001b[1;33m\u001b[0m\u001b[0m\n\u001b[0;32m     20\u001b[0m         \u001b[0mtaskfile\u001b[0m \u001b[1;33m=\u001b[0m \u001b[0mopen\u001b[0m\u001b[1;33m(\u001b[0m\u001b[0mcondition\u001b[0m \u001b[1;33m+\u001b[0m \u001b[1;34m\"/\"\u001b[0m \u001b[1;33m+\u001b[0m \u001b[0md\u001b[0m \u001b[1;33m+\u001b[0m \u001b[1;34m\"/tasks.dat\"\u001b[0m\u001b[1;33m)\u001b[0m\u001b[1;33m\u001b[0m\u001b[0m\n",
        "\u001b[1;31mIndexError\u001b[0m: list index out of range"
       ]
      }
     ],
     "prompt_number": 24
    },
    {
     "cell_type": "code",
     "collapsed": false,
     "input": [],
     "language": "python",
     "metadata": {},
     "outputs": []
    }
   ],
   "metadata": {}
  }
 ]
}