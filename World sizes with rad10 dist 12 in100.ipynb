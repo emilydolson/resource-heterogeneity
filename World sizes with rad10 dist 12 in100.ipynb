{
 "metadata": {
  "name": "",
  "signature": "sha256:4fb0dffcc1f5dd16975023cc19e526b234620f2f997192753d83da6dce24208e"
 },
 "nbformat": 3,
 "nbformat_minor": 0,
 "worksheets": [
  {
   "cells": [
    {
     "cell_type": "code",
     "collapsed": false,
     "input": [
      "import os\n",
      "import numpy, scipy, matplotlib\n",
      "import matplotlib.pyplot as plt\n",
      "import csv\n",
      "import sys"
     ],
     "language": "python",
     "metadata": {},
     "outputs": [],
     "prompt_number": 6
    },
    {
     "cell_type": "code",
     "collapsed": false,
     "input": [
      "#path = \"/user_home/w_BEACONGroupE/resource-heterogeneity/experiment/\"\n",
      "path = \"C:\\\\Users\\\\Samuel Perez\\\\Documents\\\\GitHub\\\\resource-heterogeneity\\\\experiment\\\\\"\n",
      "os.chdir(path)\n",
      "conditions = [\"world80_rad10_dist12_inf\", \"world100\", \"radius10_worldsize200\"]\n",
      "\n",
      "\n",
      "def getData2(condition):\n",
      "    diversities2 = []\n",
      "    equs2 = []\n",
      "    try:\n",
      "        print condition\n",
      "        dirs = os.listdir(condition)\n",
      "    except:\n",
      "        return [], []\n",
      "    dirs.sort()\n",
      "    for d in dirs:\n",
      "        print d\n",
      "        diversityfile = open(condition + \"/\" + d +\"/phenotype_count.dat\")\n",
      "        diversities2.append(float(diversityfile.readlines()[-1].split()[2]))\n",
      "        diversityfile.close()\n",
      "        taskfile = open(condition + \"/\" + d + \"/tasks.dat\")\n",
      "        equs2.append(int(taskfile.readlines()[-1].split()[9]))\n",
      "        taskfile.close()\n",
      "   \n",
      "    #print equs2\n",
      "    #csv_out3 = open('depletable_inflow100_equs.csv', 'a')\n",
      "    #mywriter3 = csv.writer(csv_out3)\n",
      "    \n",
      "    #for j in range(len(equs2)):\n",
      "     #   mywriter3.writerow([condition,equs2[j]])\n",
      "    #csv_out3.close()\n",
      "    \n",
      "    #print diversities\n",
      "    #csv_out4 = open('depletable_inflow100_divs.csv', 'a')\n",
      "    #mywriter4 = csv.writer(csv_out4)\n",
      "    \n",
      "    #for j in range(len(diversities2)):\n",
      "     #   mywriter4.writerow([condition,diversities2[j]])\n",
      "    #csv_out4.close()\n",
      "    \n",
      "    \n",
      "    return diversities2, equs2\n",
      "\n",
      "\n",
      "def doStats2(conditions):\n",
      "    divs = []\n",
      "    equs = []\n",
      "    for c in conditions:\n",
      "        d, e = getData2(c)\n",
      "        if d == []:\n",
      "            continue\n",
      "        divs.append(d)\n",
      "        e = [int(i>0) for i in e]\n",
      "        equs.append(e)\n",
      "    print divs    \n",
      "    plt.figure(1)\n",
      "    plt.xlabel(\"World size)\")\n",
      "    plt.ylabel(\"Phenotypic Shannon entropy of viable organisms\")\n",
      "    plt.title(\"Diversity Distributions vs World size (no pop cap r10 d12 in100)\")\n",
      "    plt.boxplot(divs, notch=True)\n",
      "    equHeights = [sum(i) for i in equs]\n",
      "    plt.xticks([1, 2, 3, 4], [\"80\",\"100\", \"200\"], rotation='horizontal')\n",
      "    \n",
      "    \n",
      "    plt.figure(2)\n",
      "    plt.title(\"Evolution of EQU vs World size (no pop cap r10 d12 in100)\")\n",
      "    plt.xlabel(\"World Size\")\n",
      "    plt.ylabel(\"# of populations that evolved EQU by 100,000 updates\")\n",
      "    plt.bar(range(len(equHeights)), equHeights)\n",
      "    plt.xticks([1, 2, 3, 4], [\"80\",\"100\", \"200\"], rotation='horizontal')\n",
      "\n",
      "    \n",
      "#getData2(conditions)\n",
      "doStats2(conditions)\n",
      "\n",
      "\n"
     ],
     "language": "python",
     "metadata": {},
     "outputs": [
      {
       "output_type": "stream",
       "stream": "stdout",
       "text": [
        "world80_rad10_dist12_inf\n",
        "heterogeneity_replication_2400\n",
        "heterogeneity_replication_2401"
       ]
      },
      {
       "output_type": "stream",
       "stream": "stdout",
       "text": [
        "\n",
        "heterogeneity_replication_2402"
       ]
      },
      {
       "output_type": "stream",
       "stream": "stdout",
       "text": [
        "\n",
        "heterogeneity_replication_2403"
       ]
      },
      {
       "output_type": "stream",
       "stream": "stdout",
       "text": [
        "\n",
        "heterogeneity_replication_2404"
       ]
      },
      {
       "output_type": "stream",
       "stream": "stdout",
       "text": [
        "\n",
        "heterogeneity_replication_2405"
       ]
      },
      {
       "output_type": "stream",
       "stream": "stdout",
       "text": [
        "\n",
        "heterogeneity_replication_2406"
       ]
      },
      {
       "output_type": "stream",
       "stream": "stdout",
       "text": [
        "\n",
        "heterogeneity_replication_2407"
       ]
      },
      {
       "output_type": "stream",
       "stream": "stdout",
       "text": [
        "\n",
        "heterogeneity_replication_2408"
       ]
      },
      {
       "output_type": "stream",
       "stream": "stdout",
       "text": [
        "\n",
        "heterogeneity_replication_2409"
       ]
      },
      {
       "output_type": "stream",
       "stream": "stdout",
       "text": [
        "\n",
        "heterogeneity_replication_2410"
       ]
      },
      {
       "output_type": "stream",
       "stream": "stdout",
       "text": [
        "\n",
        "heterogeneity_replication_2411\n",
        "heterogeneity_replication_2412\n",
        "heterogeneity_replication_2413\n",
        "heterogeneity_replication_2414"
       ]
      },
      {
       "output_type": "stream",
       "stream": "stdout",
       "text": [
        "\n",
        "heterogeneity_replication_2415\n",
        "heterogeneity_replication_2416\n",
        "heterogeneity_replication_2417\n",
        "heterogeneity_replication_2418\n",
        "heterogeneity_replication_2419\n",
        "heterogeneity_replication_2420\n",
        "heterogeneity_replication_2421"
       ]
      },
      {
       "output_type": "stream",
       "stream": "stdout",
       "text": [
        "\n",
        "heterogeneity_replication_2422\n",
        "heterogeneity_replication_2423\n",
        "heterogeneity_replication_2424\n",
        "heterogeneity_replication_2425\n",
        "heterogeneity_replication_2426\n",
        "heterogeneity_replication_2427\n",
        "heterogeneity_replication_2428\n",
        "heterogeneity_replication_2429\n",
        "heterogeneity_replication_2430\n",
        "world100\n",
        "heterogeneity_replication_3311\n",
        "heterogeneity_replication_3312\n",
        "heterogeneity_replication_3313\n",
        "heterogeneity_replication_3314\n",
        "heterogeneity_replication_3315\n",
        "heterogeneity_replication_3316\n",
        "heterogeneity_replication_3317\n",
        "heterogeneity_replication_3318\n",
        "heterogeneity_replication_3319\n",
        "heterogeneity_replication_3320\n",
        "heterogeneity_replication_3321\n",
        "heterogeneity_replication_3322\n",
        "heterogeneity_replication_3323\n",
        "heterogeneity_replication_3324\n",
        "heterogeneity_replication_3325\n",
        "heterogeneity_replication_3326\n",
        "heterogeneity_replication_3327\n",
        "heterogeneity_replication_3328\n",
        "heterogeneity_replication_3329\n",
        "heterogeneity_replication_3330\n",
        "heterogeneity_replication_3331\n",
        "heterogeneity_replication_3332\n",
        "heterogeneity_replication_3333\n",
        "heterogeneity_replication_3334\n",
        "heterogeneity_replication_3335\n",
        "heterogeneity_replication_3336\n",
        "heterogeneity_replication_3337\n",
        "heterogeneity_replication_3338\n",
        "heterogeneity_replication_3339\n",
        "heterogeneity_replication_3340\n",
        "radius10_worldsize200\n",
        "heterogeneity_replication_1200\n",
        "heterogeneity_replication_1201\n",
        "heterogeneity_replication_1202"
       ]
      },
      {
       "output_type": "stream",
       "stream": "stdout",
       "text": [
        "\n",
        "heterogeneity_replication_1203\n",
        "heterogeneity_replication_1204\n",
        "heterogeneity_replication_1205\n",
        "heterogeneity_replication_1206\n",
        "heterogeneity_replication_1207\n",
        "heterogeneity_replication_1208\n",
        "heterogeneity_replication_1209\n",
        "heterogeneity_replication_1210\n",
        "heterogeneity_replication_1211\n",
        "heterogeneity_replication_1212\n",
        "heterogeneity_replication_1213\n",
        "heterogeneity_replication_1214\n",
        "heterogeneity_replication_1215\n",
        "heterogeneity_replication_1216\n",
        "heterogeneity_replication_1217\n",
        "heterogeneity_replication_1218\n",
        "heterogeneity_replication_1219\n",
        "heterogeneity_replication_1220\n",
        "heterogeneity_replication_1221\n",
        "heterogeneity_replication_1222\n",
        "heterogeneity_replication_1223\n",
        "heterogeneity_replication_1224\n",
        "heterogeneity_replication_1225\n",
        "heterogeneity_replication_1226\n",
        "heterogeneity_replication_1227\n",
        "heterogeneity_replication_1228\n",
        "heterogeneity_replication_1229\n",
        "heterogeneity_replication_1230\n",
        "[[2.95699, 4.21351, 3.86406, 3.08658, 3.15697, 3.17262, 3.79829, 3.42089, 4.40392, 2.92658, 3.79771, 3.96709, 3.07072, 3.24245, 3.07818, 3.63016, 3.24865, 3.41642, 3.41186, 3.36548, 3.29265, 3.20433, 2.94229, 3.35987, 3.34539, 3.14912, 3.88241, 2.51149, 2.8123, 3.61959, 2.57909], [3.13213, 3.27528, 1.23336, 3.27879, 3.31313, 2.46741, 3.83041, 1.262, 1.86292, 1.0741, 1.58093, 1.60614, 1.51006, 1.94066, 1.27063, 1.31837, 3.58587, 0.0, 2.89741, 1.30299, 1.03694, 0.0, 0.845609, 1.58046, 3.46226, 1.85172, 1.30633, 1.90224, 3.57993, 2.2796], [0.531353, 0.366963, 0.347667, 0.68315, 0.081559, 0.546211, 0.580938, 0.336605, 0.666977, 0.60243, 0.467713, 1.25517, 0.306501, 0.0, 0.289335, 0.305859, 0.558244, 0.307768, 0.34352, 0.689079, 0.331462, 0.106437, 0.544129, 0.370164, 0.033417, 0.486153, 0.0, 0.602237, 0.312801, 0.568779, 0.037025]]\n"
       ]
      },
      {
       "metadata": {},
       "output_type": "display_data",
       "png": "[encoded data removed]",
       "text": [
        "<matplotlib.figure.Figure at 0x9d03a58>"
       ]
      },
      {
       "metadata": {},
       "output_type": "display_data",
       "png": "[encoded data removed]",
       "text": [
        "<matplotlib.figure.Figure at 0xa467278>"
       ]
      }
     ],
     "prompt_number": 20
    },
    {
     "cell_type": "code",
     "collapsed": false,
     "input": [
      "#path = \"/user_home/w_BEACONGroupE/resource-heterogeneity/experiment/\"\n",
      "path = \"C:\\\\Users\\\\Samuel Perez\\\\Documents\\\\GitHub\\\\resource-heterogeneity\\\\experiment\\\\\"\n",
      "os.chdir(path)\n",
      "conditions = [\"world80_rad10_dist12_in100_pop3481\", \"radius10_worldsize200_cappedpopulation\"]\n",
      "\n",
      "\n",
      "def getData2(condition):\n",
      "    diversities2 = []\n",
      "    equs2 = []\n",
      "    try:\n",
      "        print condition\n",
      "        dirs = os.listdir(condition)\n",
      "    except:\n",
      "        return [], []\n",
      "    dirs.sort()\n",
      "    for d in dirs:\n",
      "        print d\n",
      "        diversityfile = open(condition + \"/\" + d +\"/phenotype_count.dat\")\n",
      "        diversities2.append(float(diversityfile.readlines()[-1].split()[2]))\n",
      "        diversityfile.close()\n",
      "        taskfile = open(condition + \"/\" + d + \"/tasks.dat\")\n",
      "        equs2.append(int(taskfile.readlines()[-1].split()[9]))\n",
      "        taskfile.close()\n",
      "   \n",
      "    #print equs2\n",
      "    #csv_out3 = open('depletable_inflow100_equs.csv', 'a')\n",
      "    #mywriter3 = csv.writer(csv_out3)\n",
      "    \n",
      "    #for j in range(len(equs2)):\n",
      "     #   mywriter3.writerow([condition,equs2[j]])\n",
      "    #csv_out3.close()\n",
      "    \n",
      "    #print diversities\n",
      "    #csv_out4 = open('depletable_inflow100_divs.csv', 'a')\n",
      "    #mywriter4 = csv.writer(csv_out4)\n",
      "    \n",
      "    #for j in range(len(diversities2)):\n",
      "     #   mywriter4.writerow([condition,diversities2[j]])\n",
      "    #csv_out4.close()\n",
      "    \n",
      "    \n",
      "    return diversities2, equs2\n",
      "\n",
      "\n",
      "def doStats2(conditions):\n",
      "    divs = []\n",
      "    equs = []\n",
      "    for c in conditions:\n",
      "        d, e = getData2(c)\n",
      "        if d == []:\n",
      "            continue\n",
      "        divs.append(d)\n",
      "        e = [int(i>0) for i in e]\n",
      "        equs.append(e)\n",
      "    print divs    \n",
      "    plt.figure(1)\n",
      "    plt.xlabel(\"World size)\")\n",
      "    plt.ylabel(\"Phenotypic Shannon entropy of viable organisms\")\n",
      "    plt.title(\"Diversity Distributions vs World size (no pop cap r10 d12 in100)\")\n",
      "    plt.boxplot(divs, notch=True)\n",
      "    equHeights = [sum(i) for i in equs]\n",
      "    plt.xticks([1, 2, 3, 4], [\"80\",\"100\", \"200\"], rotation='horizontal')\n",
      "    \n",
      "    \n",
      "    plt.figure(2)\n",
      "    plt.title(\"Evolution of EQU vs World size (no pop cap r10 d12 in100)\")\n",
      "    plt.xlabel(\"World Size\")\n",
      "    plt.ylabel(\"# of populations that evolved EQU by 100,000 updates\")\n",
      "    plt.bar(range(len(equHeights)), equHeights)\n",
      "    plt.xticks([1, 2, 3, 4], [\"80\",\"100\", \"200\"], rotation='horizontal')\n",
      "\n",
      "    \n",
      "#getData2(conditions)\n",
      "doStats2(conditions)\n",
      "\n"
     ],
     "language": "python",
     "metadata": {},
     "outputs": [
      {
       "output_type": "stream",
       "stream": "stdout",
       "text": [
        "world80_rad10_dist12_in100_pop3481\n",
        "heterogeneity_replication_2461\n",
        "heterogeneity_replication_2462"
       ]
      },
      {
       "output_type": "stream",
       "stream": "stdout",
       "text": [
        "\n",
        "heterogeneity_replication_2463\n",
        "heterogeneity_replication_2464\n",
        "heterogeneity_replication_2465"
       ]
      },
      {
       "output_type": "stream",
       "stream": "stdout",
       "text": [
        "\n",
        "heterogeneity_replication_2466\n",
        "heterogeneity_replication_2467\n",
        "heterogeneity_replication_2468\n",
        "heterogeneity_replication_2469\n",
        "heterogeneity_replication_2470\n",
        "heterogeneity_replication_2471\n",
        "heterogeneity_replication_2472\n",
        "heterogeneity_replication_2473"
       ]
      },
      {
       "output_type": "stream",
       "stream": "stdout",
       "text": [
        "\n",
        "heterogeneity_replication_2474\n",
        "heterogeneity_replication_2475\n",
        "heterogeneity_replication_2476"
       ]
      },
      {
       "output_type": "stream",
       "stream": "stdout",
       "text": [
        "\n",
        "heterogeneity_replication_2477"
       ]
      },
      {
       "output_type": "stream",
       "stream": "stdout",
       "text": [
        "\n",
        "heterogeneity_replication_2478\n",
        "heterogeneity_replication_2479"
       ]
      },
      {
       "output_type": "stream",
       "stream": "stdout",
       "text": [
        "\n",
        "heterogeneity_replication_2480"
       ]
      },
      {
       "output_type": "stream",
       "stream": "stdout",
       "text": [
        "\n",
        "heterogeneity_replication_2481\n",
        "heterogeneity_replication_2482"
       ]
      },
      {
       "output_type": "stream",
       "stream": "stdout",
       "text": [
        "\n",
        "heterogeneity_replication_2483\n",
        "heterogeneity_replication_2484"
       ]
      },
      {
       "output_type": "stream",
       "stream": "stdout",
       "text": [
        "\n",
        "heterogeneity_replication_2485\n",
        "heterogeneity_replication_2486\n",
        "heterogeneity_replication_2487\n",
        "heterogeneity_replication_2488\n",
        "heterogeneity_replication_2489\n",
        "heterogeneity_replication_2490\n",
        "radius10_worldsize200_cappedpopulation\n",
        "heterogeneity_replication_1331\n",
        "heterogeneity_replication_1332\n",
        "heterogeneity_replication_1333\n",
        "heterogeneity_replication_1334\n",
        "heterogeneity_replication_1335\n",
        "heterogeneity_replication_1336\n",
        "heterogeneity_replication_1337\n",
        "heterogeneity_replication_1338\n",
        "heterogeneity_replication_1339\n",
        "heterogeneity_replication_1340\n",
        "heterogeneity_replication_1341\n",
        "heterogeneity_replication_1342\n",
        "heterogeneity_replication_1343\n",
        "heterogeneity_replication_1344\n",
        "heterogeneity_replication_1345\n",
        "heterogeneity_replication_1346\n",
        "heterogeneity_replication_1347\n",
        "heterogeneity_replication_1348"
       ]
      },
      {
       "output_type": "stream",
       "stream": "stdout",
       "text": [
        "\n",
        "heterogeneity_replication_1349\n",
        "heterogeneity_replication_1350\n",
        "heterogeneity_replication_1351\n",
        "heterogeneity_replication_1352\n",
        "heterogeneity_replication_1353\n",
        "heterogeneity_replication_1354\n",
        "heterogeneity_replication_1355\n",
        "heterogeneity_replication_1356\n",
        "heterogeneity_replication_1357\n",
        "heterogeneity_replication_1358\n",
        "heterogeneity_replication_1359\n",
        "heterogeneity_replication_1360\n",
        "[[3.64768, 3.37283, 2.90036, 2.65683, 3.24123, 3.16039, 2.96005, 2.91636, 2.9852, 2.83797, 3.11096, 2.63643, 2.99246, 3.14339, 2.98768, 2.86823, 3.44363, 3.44506, 3.00201, 3.1006, 2.88883, 2.97688, 2.99323, 1.41652, 4.19855, 2.32499, 3.07133, 3.59214, 3.22368, 2.23269], [3.22341, 3.17347, 3.32197, 2.99048, 3.26086, 3.3038, 3.54014, 2.93061, 4.44126, 1.02488, 3.10426, 3.45097, 3.23269, 3.27528, 3.91776, 3.79777, 2.60238, 2.95207, 1.83815, 3.15989, 3.42898, 3.27754, 3.73476, 3.58476, 0.0, 2.17085, 3.71424, 2.13927, 4.21517, 4.00483]]\n"
       ]
      },
      {
       "metadata": {},
       "output_type": "display_data",
       "png": "[encoded data removed]",
       "text": [
        "<matplotlib.figure.Figure at 0x9a90a90>"
       ]
      },
      {
       "metadata": {},
       "output_type": "display_data",
       "png": "[encoded data removed]",
       "text": [
        "<matplotlib.figure.Figure at 0xa47ac50>"
       ]
      }
     ],
     "prompt_number": 21
    },
    {
     "cell_type": "code",
     "collapsed": false,
     "input": [],
     "language": "python",
     "metadata": {},
     "outputs": []
    }
   ],
   "metadata": {}
  }
 ]
}