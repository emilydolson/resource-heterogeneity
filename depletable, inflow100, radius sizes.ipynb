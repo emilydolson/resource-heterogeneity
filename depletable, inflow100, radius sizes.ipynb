{
 "metadata": {
  "name": "",
  "signature": "sha256:4787cc501ba6b01a327da07c0dabd7a7f2fe991953572ad042933228444f45d4"
 },
 "nbformat": 3,
 "nbformat_minor": 0,
 "worksheets": [
  {
   "cells": [
    {
     "cell_type": "code",
     "collapsed": false,
     "input": [
      "import os\n",
      "import numpy, scipy, matplotlib\n",
      "import matplotlib.pyplot as plt\n",
      "import csv\n",
      "import sys"
     ],
     "language": "python",
     "metadata": {},
     "outputs": [],
     "prompt_number": 1
    },
    {
     "cell_type": "code",
     "collapsed": false,
     "input": [
      "path = \"/user_home/w_BEACONGroupE/resource-heterogeneity/experiment/\"\n",
      "os.chdir(path)\n",
      "conditions = [\"radius6_inflow100\", \"rad8_depletable\", \"rad10_depletable\", \"rad15_depletable\", \"radius20_inflow100\", \"radius24_inflow100\", \"radius30_inflow100\", \"inflow100_radius36\", \"inflow100_radius48\", \"inflow100_radius59\"]\n",
      "\n",
      "\n",
      "def getData2(condition):\n",
      "    diversities2 = []\n",
      "    equs2 = []\n",
      "    try:\n",
      "        dirs = os.listdir(condition)\n",
      "    except:\n",
      "        return [], []\n",
      "    for d in dirs:\n",
      "        diversityfile = open(condition + \"/\" + d +\"/phenotype_count.dat\")\n",
      "        diversities2.append(float(diversityfile.readlines()[-1].split()[2]))\n",
      "        diversityfile.close()\n",
      "        taskfile = open(condition + \"/\" + d + \"/tasks.dat\")\n",
      "        equs2.append(int(taskfile.readlines()[-1].split()[9]))\n",
      "        taskfile.close()\n",
      "   \n",
      "    print equs2\n",
      "    csv_out3 = open('depletable_inflow100_equs.csv', 'a')\n",
      "    mywriter3 = csv.writer(csv_out3)\n",
      "    \n",
      "    for j in range(len(equs2)):\n",
      "        mywriter3.writerow([condition,equs2[j]])\n",
      "    csv_out3.close()\n",
      "    \n",
      "    #print diversities\n",
      "    csv_out4 = open('depletable_inflow100_divs.csv', 'a')\n",
      "    mywriter4 = csv.writer(csv_out4)\n",
      "    \n",
      "    for j in range(len(diversities2)):\n",
      "        mywriter4.writerow([condition,diversities2[j]])\n",
      "    csv_out4.close()\n",
      "    \n",
      "    \n",
      "    return diversities2, equs2\n",
      "\n",
      "\n",
      "def doStats2(conditions):\n",
      "    divs = []\n",
      "    equs = []\n",
      "    for c in conditions:\n",
      "        d, e = getData2(c)\n",
      "        if d == []:\n",
      "            continue\n",
      "        divs.append(d)\n",
      "        e = [int(i>0) for i in e]\n",
      "        equs.append(e)\n",
      "    \n",
      "    plt.figure(1)\n",
      "    plt.xlabel(\"Treatment(radius)\")\n",
      "    plt.ylabel(\"Phenotypic Shannon entropy of viable organisms\")\n",
      "    plt.title(\"Diversity Distributions over Entropy Treatments\")\n",
      "    plt.boxplot(divs, notch=True)\n",
      "    equHeights = [sum(i) for i in equs]\n",
      "    plt.xticks([1, 2, 3, 4, 5, 6, 7, 8, 9, 10], [\"6\",\"8\",\"10\",\"15\", \"20\", \"24\", \"30\", \"36\", \"48\", \"59\"], rotation='horizontal')\n",
      "    \n",
      "    \n",
      "    plt.figure(2)\n",
      "    plt.title(\"Evolution of EQU over Entropy Treatments\")\n",
      "    plt.xlabel(\"Treatment (radius)\")\n",
      "    plt.ylabel(\"# of populations that evolved EQU by 100,000 updates\")\n",
      "    plt.bar(range(len(equHeights)), equHeights)\n",
      "    plt.xticks([0.4, 1.4, 2.4, 3.4, 4.4, 5.4, 6.4, 7.4, 8.4, 9.4], [\"6\",\"8\",\"10\",\"15\", \"20\",\"24\", \"30\", \"36\", \"48\", \"59\"], rotation='horizontal')\n",
      "   \n",
      "    \n",
      "doStats2(conditions)\n",
      "getData2(conditions)\n"
     ],
     "language": "python",
     "metadata": {},
     "outputs": [
      {
       "output_type": "stream",
       "stream": "stdout",
       "text": [
        "[0, 0, 0, 0, 0, 0, 0, 0, 0, 0, 0, 0, 0, 2967, 0, 0, 0, 0, 0, 0, 0, 0, 0, 0, 0, 2914, 0, 0, 0, 0]\n",
        "[0, 0, 0, 0, 0, 0, 0, 0, 0, 0, 0, 0, 0, 0, 0, 0, 0, 0, 0, 0, 0, 0, 0, 0, 0, 0, 0, 0]"
       ]
      },
      {
       "output_type": "stream",
       "stream": "stdout",
       "text": [
        "\n",
        "[0, 2942, 0, 0, 0, 0, 0, 0, 0, 0, 0, 0, 3108, 0, 0, 3068, 0, 0, 0, 0, 0, 2358, 0, 0, 0, 0, 0, 0, 0, 2548]"
       ]
      },
      {
       "output_type": "stream",
       "stream": "stdout",
       "text": [
        "\n",
        "[0, 0, 0, 0, 2113, 3112, 0, 2328, 0, 2561, 2595, 0, 0, 1682, 2623, 0, 2620, 0, 0, 0, 0, 0, 2111, 0, 0, 2263, 0, 0, 0, 1433]"
       ]
      },
      {
       "output_type": "stream",
       "stream": "stdout",
       "text": [
        "\n",
        "[0, 1736, 2092, 0, 0, 1973, 0, 0, 1947, 0, 3188, 0, 0, 3076, 1953, 3070, 0, 3220, 2113, 2791, 0, 2020, 2095, 2662, 1760, 0, 0, 1818, 0, 1371]"
       ]
      },
      {
       "output_type": "stream",
       "stream": "stdout",
       "text": [
        "\n",
        "[3245, 2077, 0, 1951, 0, 3267, 0, 2557, 1580, 0, 2093, 2610, 1826, 2266, 2309, 3175, 0, 0, 2021, 2226, 2557, 0, 0, 0, 0, 2227, 2637, 0, 0, 1780]"
       ]
      },
      {
       "output_type": "stream",
       "stream": "stdout",
       "text": [
        "\n",
        "[3120, 1531, 2528, 0, 0, 0, 1843, 3251, 3248, 0, 3232, 1216, 1667, 3135, 3190, 2989, 0, 2520, 0, 0, 3066, 2144, 0, 1927, 3203, 2871, 1683, 2687, 3227, 3271]"
       ]
      },
      {
       "output_type": "stream",
       "stream": "stdout",
       "text": [
        "\n",
        "[0, 1668, 0, 1801, 1523, 2800, 3101, 0, 1663, 0, 0, 1442, 3126, 0, 0, 0, 2374, 3024, 1774, 0, 0, 0, 2283, 1102, 1214, 1491, 0, 1142, 1064, 0]"
       ]
      },
      {
       "output_type": "stream",
       "stream": "stdout",
       "text": [
        "\n",
        "[1528, 753, 0, 620, 2708, 617, 0, 1302, 0, 0, 3161, 0, 1799, 0, 2693, 3065, 3262, 2628, 3281, 3177, 0, 3039, 0, 1751, 0, 0, 0, 1215, 0, 3248]"
       ]
      },
      {
       "output_type": "stream",
       "stream": "stdout",
       "text": [
        "\n",
        "[0, 3150, 1806, 3248, 0, 1126, 984, 3246, 0, 2382, 3243, 3119, 0, 3132, 0, 530, 0, 0, 3026, 0, 3160, 3220, 0, 598, 947, 0, 0, 0, 0, 3026, 0]"
       ]
      },
      {
       "output_type": "stream",
       "stream": "stdout",
       "text": [
        "\n"
       ]
      },
      {
       "metadata": {},
       "output_type": "pyout",
       "prompt_number": 2,
       "text": [
        "([], [])"
       ]
      },
      {
       "metadata": {},
       "output_type": "display_data",
       "png": "[encoded data removed]",
       "text": [
        "<matplotlib.figure.Figure at 0x2993b10>"
       ]
      },
      {
       "metadata": {},
       "output_type": "display_data",
       "png": "[encoded data removed]",
       "text": [
        "<matplotlib.figure.Figure at 0x2a40590>"
       ]
      }
     ],
     "prompt_number": 2
    },
    {
     "cell_type": "code",
     "collapsed": false,
     "input": [],
     "language": "python",
     "metadata": {},
     "outputs": []
    }
   ],
   "metadata": {}
  }
 ]
}