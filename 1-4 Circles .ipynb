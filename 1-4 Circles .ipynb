{
 "metadata": {
  "name": ""
 },
 "nbformat": 3,
 "nbformat_minor": 0,
 "worksheets": [
  {
   "cells": [
    {
     "cell_type": "code",
     "collapsed": false,
     "input": [
      "import os\n",
      "import numpy, scipy, matplotlib\n",
      "import matplotlib.pyplot as plt\n",
      "import numpy as np\n",
      "import csv\n",
      "import sys"
     ],
     "language": "python",
     "metadata": {},
     "outputs": [],
     "prompt_number": 1
    },
    {
     "cell_type": "code",
     "collapsed": false,
     "input": [
      "path = \"C:\\\\Users\\\\Samuel Perez\\\\Documents\\\\GitHub\\\\resource-heterogeneity\\\\experiment\"\n",
      "#path = Audra's path\n",
      "#path = Emily's path\n",
      "os.chdir(path)\n",
      "conditions = [\"1circle_homogeneous_pop3481\", \"1circle_pop3481\", \"3circles_homogeneous_popcap3481\", \"3circles_pop3481\"]\n",
      "\n",
      "def getData(condition):\n",
      "    diversities = []\n",
      "    task1 = []\n",
      "    task2 = []\n",
      "    try:\n",
      "        dirs = os.listdir(condition)\n",
      "    except:\n",
      "        return [], []\n",
      "    for d in dirs:\n",
      "        diversityfile = open(condition + \"/\" + d +\"/phenotype_count.dat\")\n",
      "        diversities.append(float(diversityfile.readlines()[-1].split()[2]))\n",
      "        diversityfile.close()\n",
      "        #task1file = open(condition + \"/\" + d + \"/tasks.dat\")\n",
      "        #task1.append(int(task1file.readlines()[-1].split()[1]))\n",
      "        #task1file.close()\n",
      "        #task2file = open(condition + \"/\" + d + \"/tasks.dat\")\n",
      "        #task2.append(int(task2file.readlines()[-1].split()[2]))\n",
      "        #task2file.close()\n",
      "   \n",
      "    #print task1,task2\n",
      "    return diversities#, task1, task2\n",
      "\n",
      "\n",
      "def doStats(conditions):\n",
      "    divs = []\n",
      "    task1 = []\n",
      "    task2= []\n",
      "    for c in conditions:\n",
      "        d= getData(c)\n",
      "        if d == []:\n",
      "            continue\n",
      "        divs.append(d)\n",
      "        #e = [int(i>0) for i in e]\n",
      "        #f = [int(i>0) for i in f]\n",
      "        #task1.append(e)\n",
      "        #task1.append(f)\n",
      "    \n",
      "    plt.figure(1)\n",
      "    plt.xlabel(\"Distance Between Circles\")\n",
      "    plt.ylabel(\"Phenotypic Shannon entropy of viable organisms\")\n",
      "    plt.title(\"Diversity Distributions over Entropy Treatments\")\n",
      "    plt.boxplot(divs, notch=True)\n",
      "    task1Heights = [sum(i) for i in task1]\n",
      "    plt.xticks([1, 2, 3, 4, 5], [\"1-Homo\", \"1-Hete\", \"3-Homo\", \"3-Hete\"])\n",
      "    \n",
      "doStats(conditions)\n",
      "getData(conditions)\n",
      "\n",
      "evolvability=[]\n",
      "int_org=[]\n",
      "orgstask3=[]\n",
      "for i in conditions:\n",
      "    #print os.listdir(i)\n",
      "    for j in os.listdir(i):\n",
      "        #print j\n",
      "        task3file=open(i + \"/\" + j + \"/grid_task.100000.dat\")\n",
      "        orgs3=0\n",
      "        for k in task3file:\n",
      "            orgs3+=k.strip().split().count('1')\n",
      "            #print orgs3\n",
      "        task3file.close()\n",
      "        orgstask3.append(orgs3)\n",
      "    #print \"Organisms performing both tasks: \" + str(orgstask3)\n",
      "    evolvabilitycondition=[]\n",
      "    for l in orgstask3:\n",
      "        if l>0:\n",
      "            evolvabilitycondition.append(1)\n",
      "        else:\n",
      "            evolvabilitycondition.append(0)\n",
      "    int_org=np.mean(orgstask3)\n",
      "    #print \"Average number of orgs performing both tasks: \"+str(int_org)\n",
      "    orgstask3=[]\n",
      "    #print \"Binary evolvability: \"+ str(evolvabilitycondition)\n",
      "    #print sum(evolvabilitycondition)\n",
      "    evolvability.append(sum(evolvabilitycondition))\n",
      "    #print \"Runs with organisms performing both tasks in \" + str(i) + \" is: \" + str(sum(evolvabilitycondition))\n",
      "    evolvabilitycondition=[]\n",
      "    print\n",
      "\n",
      "print\n",
      "#print evolvability\n",
      "    \n",
      "#plt.figure(2)\n",
      "#plt.title(\"Evolvability of Organisms with Both Tasks\")\n",
      "#plt.xlabel(\"Distance Between Circles\")\n",
      "#plt.ylabel(\"# of Runs with Organisms Performing Both Tasks\")\n",
      "#plt.bar(left=range(len(evolvability)), height=evolvability)\n",
      "#plt.xticks([0,1, 2, 3, 4, 5, 6, 7, 8, 9, 10, 11, 12, 13, 14, 15, 16], [\"15\" , \"16\" , \"17\" , \"18\", \"19\", \"20\", \"21\", \"22\", \"23\", \"24\", \"25\", \"26\", \"27\", \"28\", \"29\", \"30\"], rotation='horizontal')\n",
      "    "
     ],
     "language": "python",
     "metadata": {},
     "outputs": [
      {
       "output_type": "stream",
       "stream": "stdout",
       "text": [
        "\n",
        "\n"
       ]
      },
      {
       "output_type": "stream",
       "stream": "stdout",
       "text": [
        "\n",
        "\n"
       ]
      },
      {
       "output_type": "stream",
       "stream": "stdout",
       "text": [
        "\n"
       ]
      },
      {
       "metadata": {},
       "output_type": "display_data",
       "png": "[encoded data removed]",
       "text": [
        "<matplotlib.figure.Figure at 0x99b3c50>"
       ]
      }
     ],
     "prompt_number": 8
    },
    {
     "cell_type": "code",
     "collapsed": false,
     "input": [],
     "language": "python",
     "metadata": {},
     "outputs": []
    }
   ],
   "metadata": {}
  }
 ]
}